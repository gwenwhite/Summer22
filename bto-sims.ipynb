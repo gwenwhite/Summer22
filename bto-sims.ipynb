{
 "cells": [
  {
   "cell_type": "code",
   "execution_count": 1,
   "id": "fe36d94f",
   "metadata": {},
   "outputs": [
    {
     "name": "stderr",
     "output_type": "stream",
     "text": [
      "Warning: importing 'simtk.openmm' is deprecated.  Import 'openmm' instead.\n"
     ]
    }
   ],
   "source": [
    "import planckton\n",
    "from planckton.compounds import COMPOUND\n",
    "from planckton.forcefields import FORCEFIELD\n",
    "from planckton.init import Compound, Pack\n",
    "from planckton.sim import Simulation\n",
    "import unyt as u\n",
    "import os\n",
    "import foyer \n",
    "import parmed as pmd\n",
    "import mbuild as mb"
   ]
  },
  {
   "cell_type": "code",
   "execution_count": 2,
   "id": "65fc5b71",
   "metadata": {},
   "outputs": [
    {
     "name": "stderr",
     "output_type": "stream",
     "text": [
      "/Users/gwen/miniconda3/envs/planckton/lib/python3.7/site-packages/foyer/forcefield.py:621: UserWarning: No force field version number found in force field XML file.\n",
      "  \"No force field version number found in force field XML file.\"\n",
      "/Users/gwen/miniconda3/envs/planckton/lib/python3.7/site-packages/foyer/forcefield.py:633: UserWarning: No force field name found in force field XML file.\n",
      "  \"No force field name found in force field XML file.\"\n",
      "/Users/gwen/miniconda3/envs/planckton/lib/python3.7/site-packages/foyer/forcefield.py:645: UserWarning: No combining rule found in force field XML file.\n",
      "  \"No combining rule found in force field XML file.\"\n",
      "/Users/gwen/miniconda3/envs/planckton/lib/python3.7/site-packages/foyer/validator.py:165: ValidationWarning: You have empty smart definition(s)\n",
      "  warn(\"You have empty smart definition(s)\", ValidationWarning)\n",
      "/Users/gwen/miniconda3/envs/planckton/lib/python3.7/site-packages/mdtraj/core/trajectory.py:438: UserWarning: top= kwargs ignored since this file parser does not support it\n",
      "  warnings.warn('top= kwargs ignored since this file parser does not support it')\n"
     ]
    }
   ],
   "source": [
    "bto = \"/Users/gwen/cmelab/molecules/bto-new.mol2\"\n",
    "\n",
    "#path gaff.xml file you edited\n",
    "ff_path = \"/Users/gwen/cmelab/molecules/gaff_y6.xml\"\n",
    "forcefield = foyer.Forcefield(forcefield_files=ff_path)\n",
    "compound = Compound(bto)\n",
    "packer = Pack(compound, n_compounds=1, density=0.002 * u.g / u.cm ** 3,\n",
    "             ff=forcefield)\n"
   ]
  },
  {
   "cell_type": "code",
   "execution_count": 3,
   "id": "94535f8c",
   "metadata": {},
   "outputs": [
    {
     "name": "stderr",
     "output_type": "stream",
     "text": [
      "/Users/gwen/miniconda3/envs/planckton/lib/python3.7/site-packages/foyer/forcefield.py:446: UserWarning: Parameters have been assigned to all proper dihedrals.  However, there are more parameterized dihedrals (574) than total system dihedrals (516).  This may be due to having multiple periodic dihedrals for a single system dihedral.\n",
      "  warnings.warn(msg)\n",
      "/Users/gwen/miniconda3/envs/planckton/lib/python3.7/site-packages/foyer/forcefield.py:348: UserWarning: Parameters have not been assigned to all impropers. Total system impropers: 186, Parameterized impropers: 10. Note that if your system contains torsions of Ryckaert-Bellemans functional form, all of these torsions are processed as propers\n",
      "  warnings.warn(msg)\n"
     ]
    }
   ],
   "source": [
    "system = packer.pack()"
   ]
  },
  {
   "cell_type": "code",
   "execution_count": 4,
   "id": "3d4f8815",
   "metadata": {},
   "outputs": [
    {
     "name": "stdout",
     "output_type": "stream",
     "text": [
      "HOOMD-blue 2.9.6 DOUBLE HPMC_MIXED TBB SSE SSE2 SSE3 \n",
      "Compiled: 03/17/2021\n",
      "Copyright (c) 2009-2019 The Regents of the University of Michigan.\n",
      "-----\n",
      "You are using HOOMD-blue. Please cite the following:\n",
      "* J A Anderson, J Glaser, and S C Glotzer. \"HOOMD-blue: A Python package for\n",
      "  high-performance molecular dynamics and hard particle Monte Carlo\n",
      "  simulations\", Computational Materials Science 173 (2020) 109363\n",
      "-----\n",
      "HOOMD-blue is running on the CPU\n",
      "notice(2): Group \"all\" created containing 187 particles\n",
      "notice(2): -- Neighborlist exclusion statistics -- :\n",
      "notice(2): Particles with 2 exclusions             : 4\n",
      "notice(2): Particles with 3 exclusions             : 12\n",
      "notice(2): Particles with 4 exclusions             : 81\n",
      "notice(2): Particles with 5 exclusions             : 4\n",
      "notice(2): Particles with 6 exclusions             : 4\n",
      "notice(2): Particles with 7 exclusions             : 16\n",
      "notice(2): Particles with 8 exclusions             : 26\n",
      "notice(2): Particles with 9 exclusions             : 18\n",
      "notice(2): Particles with 10 exclusions             : 22\n",
      "notice(2): Neighbors included by diameter          : no\n",
      "notice(2): Neighbors excluded when in the same body: no\n",
      "Processing LJ and QQ\n",
      "notice(2): Group \"charged\" created containing 0 particles\n"
     ]
    },
    {
     "name": "stderr",
     "output_type": "stream",
     "text": [
      "*Warning*: dihedral.harmonic: specified K <= 0\n",
      "*Warning*: dihedral.harmonic: specified K <= 0\n"
     ]
    },
    {
     "name": "stdout",
     "output_type": "stream",
     "text": [
      "No charged groups found, ignoring electrostatics\n",
      "Processing 1-4 interactions, adjusting neighborlist exclusions\n",
      "Processing harmonic bonds\n",
      "Processing harmonic angles\n",
      "Processing periodic torsions\n",
      "HOOMD SimulationContext updated from ParmEd Structure\n",
      "** starting run **\n",
      "Time 00:00:02 | Step 1000 / 1000 | TPS 382.485 | ETA 00:00:00\n",
      "Average TPS: 382.334\n",
      "---------\n",
      "-- Neighborlist stats:\n",
      "48 normal updates / 10 forced updates / 0 dangerous updates\n",
      "n_neigh_min: 0 / n_neigh_max: 166 / n_neigh_avg: 66.1283\n",
      "shortest rebuild period: 12\n",
      "-- Cell list stats:\n",
      "Dimension: 11, 11, 11\n",
      "n_min    : 0 / n_max: 81 / n_avg: 0.140496\n",
      "** run complete **\n"
     ]
    },
    {
     "name": "stderr",
     "output_type": "stream",
     "text": [
      "*Warning*: dihedral.harmonic: specified K <= 0\n",
      "*Warning*: dihedral.harmonic: specified K <= 0\n"
     ]
    },
    {
     "name": "stdout",
     "output_type": "stream",
     "text": [
      "** starting run **\n",
      "Time 00:00:12 | Step 13601 / 101001 | TPS 1259.92 | ETA 00:01:09\n",
      "Time 00:00:22 | Step 26011 / 101001 | TPS 1240.59 | ETA 00:01:00\n",
      "Time 00:00:32 | Step 38390 / 101001 | TPS 1237.88 | ETA 00:00:50\n",
      "Time 00:00:42 | Step 50901 / 101001 | TPS 1251.07 | ETA 00:00:40\n",
      "Time 00:00:52 | Step 63371 / 101001 | TPS 1246.86 | ETA 00:00:30\n",
      "Time 00:01:02 | Step 76440 / 101001 | TPS 1306.88 | ETA 00:00:18\n",
      "Time 00:01:12 | Step 89811 / 101001 | TPS 1336.98 | ETA 00:00:08\n",
      "Time 00:01:20 | Step 101001 / 101001 | TPS 1360.4 | ETA 00:00:00\n",
      "Average TPS: 1278.23\n",
      "---------\n",
      "-- Neighborlist stats:\n",
      "0 normal updates / 1001 forced updates / 0 dangerous updates\n",
      "n_neigh_min: 0 / n_neigh_max: 152 / n_neigh_avg: 54.385\n",
      "shortest rebuild period: 100\n",
      "-- Cell list stats:\n",
      "Dimension: 10, 10, 10\n",
      "n_min    : 0 / n_max: 68 / n_avg: 0.187\n",
      "** run complete **\n",
      "Simulation completed\n",
      "Restart file written\n"
     ]
    },
    {
     "data": {
      "text/plain": [
       "True"
      ]
     },
     "execution_count": 4,
     "metadata": {},
     "output_type": "execute_result"
    }
   ],
   "source": [
    "#this is where you run your simulation\n",
    "my_sim = Simulation(\n",
    "    system,\n",
    "    kT=[0.1],\n",
    "    gsd_write=10,\n",
    "    log_write=1e2,\n",
    "    e_factor=1.0,\n",
    "    n_steps=[100000.0],\n",
    "    mode=\"cpu\",\n",
    "    shrink_steps=1e3,\n",
    "    tau = [0.01],\n",
    "    target_length=packer.L,\n",
    "    dt=0.0001\n",
    ")\n",
    "my_sim.run()"
   ]
  },
  {
   "cell_type": "code",
   "execution_count": null,
   "id": "3f2f1599",
   "metadata": {},
   "outputs": [],
   "source": []
  }
 ],
 "metadata": {
  "kernelspec": {
   "display_name": "Python 3 (ipykernel)",
   "language": "python",
   "name": "python3"
  },
  "language_info": {
   "codemirror_mode": {
    "name": "ipython",
    "version": 3
   },
   "file_extension": ".py",
   "mimetype": "text/x-python",
   "name": "python",
   "nbconvert_exporter": "python",
   "pygments_lexer": "ipython3",
   "version": "3.7.12"
  }
 },
 "nbformat": 4,
 "nbformat_minor": 5
}
